{
  "nbformat": 4,
  "nbformat_minor": 0,
  "metadata": {
    "colab": {
      "name": "Volume Kombinasi Silinder dan Kerucut.ipynb",
      "provenance": [],
      "authorship_tag": "ABX9TyM7OaoVDJPM0vjP7TryHQ6g",
      "include_colab_link": true
    },
    "kernelspec": {
      "name": "python3",
      "display_name": "Python 3"
    }
  },
  "cells": [
    {
      "cell_type": "markdown",
      "metadata": {
        "id": "view-in-github",
        "colab_type": "text"
      },
      "source": [
        "<a href=\"https://colab.research.google.com/github/DyiyahKresnaEniArofah/pusat-studi-data-sains-UAD/blob/main/Volume_Kombinasi_Silinder_dan_Kerucut.ipynb\" target=\"_parent\"><img src=\"https://colab.research.google.com/assets/colab-badge.svg\" alt=\"Open In Colab\"/></a>"
      ]
    },
    {
      "cell_type": "markdown",
      "metadata": {
        "id": "Tf5faKHAON0z"
      },
      "source": [
        "Dyiyah Kresna Eni Arofah"
      ]
    },
    {
      "cell_type": "code",
      "metadata": {
        "colab": {
          "base_uri": "https://localhost:8080/"
        },
        "id": "sBmhGxb-BCq5",
        "outputId": "aadff675-33b4-4c1b-8cf7-c2fef51b629c"
      },
      "source": [
        "# a = alas\r\n",
        "# t = tinggi\r\n",
        "\r\n",
        "print(\"volume silinder\")\r\n",
        "a = float(input(\"Luas alas silinder yang berbentuk lingkaran: \"))\r\n",
        "t = float(input(\"Tinggi silinder : \"))\r\n",
        "\r\n",
        "def volume_silinder(a):\r\n",
        "   Volume = a*t\r\n",
        "   return Volume\r\n",
        "\r\n",
        "print(\"volume Kerucut\")\r\n",
        "A = float(input(\"Luas alas kerucut yang berbentuk lingkaran : \"))\r\n",
        "T = float(input(\"Tinggi kerucut : \"))\r\n",
        "\r\n",
        "def volume_kerucut(t):\r\n",
        "   Volume = 1/3*a*t\r\n",
        "   return Volume\r\n",
        "\r\n",
        "def volume_total(a,t):\r\n",
        "   v1 = volume_silinder(a)\r\n",
        "   v2 = volume_kerucut(a)\r\n",
        "   Volume = v1+v2\r\n",
        "   return Volume\r\n",
        "print(\"Maka Volume Kombinasinya adalah : \", volume_total(a,t))"
      ],
      "execution_count": 2,
      "outputs": [
        {
          "output_type": "stream",
          "text": [
            "volume silinder\n",
            "Luas alas silinder yang berbentuk lingkaran: 24\n",
            "Tinggi silinder : 30\n",
            "volume Kerucut\n",
            "Luas alas kerucut yang berbentuk lingkaran : 24\n",
            "Tinggi kerucut : 15\n",
            "Maka Volume Kombinasinya adalah :  912.0\n"
          ],
          "name": "stdout"
        }
      ]
    }
  ]
}